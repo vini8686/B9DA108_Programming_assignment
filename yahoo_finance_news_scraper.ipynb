{
  "cells": [
    {
      "cell_type": "markdown",
      "id": "39ba400c",
      "metadata": {
        "id": "39ba400c"
      },
      "source": [
        "## The following modules will be used:\n",
        "* BeautifulSoup - used to crawle the website\n",
        "* pandas used to arrange data in tables"
      ]
    },
    {
      "cell_type": "code",
      "execution_count": 1,
      "id": "a45dd299",
      "metadata": {
        "id": "a45dd299"
      },
      "outputs": [],
      "source": [
        "# Installation of the necessary libraries\n",
        "!pip install requests --quiet\n",
        "!pip install beautifulsoup4 --quiet\n",
        "!pip install pymongo --quiet\n",
        "!pip install urllib3 --quiet"
      ]
    },
    {
      "cell_type": "code",
      "execution_count": 2,
      "id": "d07519a1",
      "metadata": {
        "id": "d07519a1"
      },
      "outputs": [],
      "source": [
        "import csv\n",
        "import requests\n",
        "import pandas as pd\n",
        "import urllib\n",
        "import time\n",
        "\n",
        "from bs4 import BeautifulSoup\n",
        "from pymongo import MongoClient\n",
        "from IPython.display import display"
      ]
    },
    {
      "cell_type": "code",
      "execution_count": 3,
      "id": "3528ad45",
      "metadata": {
        "id": "3528ad45",
        "colab": {
          "base_uri": "https://localhost:8080/"
        },
        "outputId": "8cc3521c-9f2e-46e7-9c78-89d47c29e5c1"
      },
      "outputs": [
        {
          "output_type": "stream",
          "name": "stdout",
          "text": [
            " * Starting database mongodb\n",
            "   ...done.\n"
          ]
        },
        {
          "output_type": "stream",
          "name": "stderr",
          "text": [
            "\n",
            "WARNING: apt does not have a stable CLI interface. Use with caution in scripts.\n",
            "\n",
            "debconf: unable to initialize frontend: Dialog\n",
            "debconf: (No usable dialog-like program is installed, so the dialog based frontend cannot be used. at /usr/share/perl5/Debconf/FrontEnd/Dialog.pm line 76, <> line 8.)\n",
            "debconf: falling back to frontend: Readline\n",
            "debconf: unable to initialize frontend: Readline\n",
            "debconf: (This frontend requires a controlling tty.)\n",
            "debconf: falling back to frontend: Teletype\n",
            "dpkg-preconfigure: unable to re-open stdin: \n"
          ]
        }
      ],
      "source": [
        "%%bash\n",
        "sudo apt install -y mongodb > log\n",
        "service mongodb start"
      ]
    },
    {
      "cell_type": "code",
      "source": [
        "# Wait for the instance to start\n",
        "time.sleep(5)"
      ],
      "metadata": {
        "id": "aMHa0oH5BfSi"
      },
      "id": "aMHa0oH5BfSi",
      "execution_count": 4,
      "outputs": []
    },
    {
      "cell_type": "code",
      "source": [
        "%%bash\n",
        "ps -ef | grep mongo"
      ],
      "metadata": {
        "colab": {
          "base_uri": "https://localhost:8080/"
        },
        "id": "Y1bqIRfVBquf",
        "outputId": "d4fa7a08-c656-4b74-bab8-1bcacf96364f"
      },
      "id": "Y1bqIRfVBquf",
      "execution_count": 5,
      "outputs": [
        {
          "output_type": "stream",
          "name": "stdout",
          "text": [
            "mongodb      545       1 13 13:20 ?        00:00:00 /usr/bin/mongod --config /etc/mongodb.conf\n",
            "root         589     587  0 13:20 ?        00:00:00 grep mongo\n"
          ]
        }
      ]
    },
    {
      "cell_type": "markdown",
      "id": "0fe75dfc",
      "metadata": {
        "id": "0fe75dfc"
      },
      "source": [
        "## Instantiate mongodb"
      ]
    },
    {
      "cell_type": "code",
      "execution_count": 6,
      "id": "8a866919",
      "metadata": {
        "id": "8a866919",
        "colab": {
          "base_uri": "https://localhost:8080/"
        },
        "outputId": "16ffbbd3-3a64-406a-e72d-7e0402af6791"
      },
      "outputs": [
        {
          "output_type": "execute_result",
          "data": {
            "text/plain": [
              "['admin', 'local']"
            ]
          },
          "metadata": {},
          "execution_count": 6
        }
      ],
      "source": [
        "mongoClient = MongoClient()\n",
        "# Get the atlas mongodb connection string\n",
        "# mongo_uri = \"mongodb://vineethr238:\" + urllib.parse.quote(\"vini8686\", safe=\"\") + \"@cluster0.yqicrpo.mongodb.net/?retryWrites=true&w=majority\"\n",
        "# client = MongoClient(mongo_uri)\n",
        "client = MongoClient()\n",
        "client.list_database_names()\n",
        "# db = client.stocknews\n",
        "# store = db.stocks\n",
        "\n",
        "# db = client.stocknews.stocks"
      ]
    },
    {
      "cell_type": "code",
      "source": [
        "DATABASE_URI = \"mongodb://localhost:27017\"\n",
        "DATABASE = \"stocknews\"\n",
        "NEWS_COLLECTION = \"stocks\"\n",
        "db = client[DATABASE]\n",
        "\n",
        "# Check existence of collection\n",
        "if \"stocks\" not in db.list_collection_names():\n",
        "  db.create_collection(NEWS_COLLECTION)"
      ],
      "metadata": {
        "id": "wPYA-PHBCu9h"
      },
      "id": "wPYA-PHBCu9h",
      "execution_count": 7,
      "outputs": []
    },
    {
      "cell_type": "markdown",
      "id": "67d63a6d",
      "metadata": {
        "id": "67d63a6d"
      },
      "source": [
        "## Test the Base Url"
      ]
    },
    {
      "cell_type": "code",
      "execution_count": 8,
      "id": "623d9859",
      "metadata": {
        "id": "623d9859"
      },
      "outputs": [],
      "source": [
        "BASE_URL = 'https://finance.yahoo.com' "
      ]
    },
    {
      "cell_type": "markdown",
      "id": "585439f4",
      "metadata": {
        "id": "585439f4"
      },
      "source": [
        "## Utility Methods"
      ]
    },
    {
      "cell_type": "code",
      "execution_count": 9,
      "id": "da9c1a55",
      "metadata": {
        "id": "da9c1a55"
      },
      "outputs": [],
      "source": [
        "def get_page(url):\n",
        "    \"\"\"Download a webpage and return a beautiful soup doc\"\"\"\n",
        "    response = requests.get(url)\n",
        "    if not response.ok:\n",
        "        print('Status code:', response.status_code)\n",
        "        raise Exception('Failed to load page {}'.format(url))\n",
        "    doc = BeautifulSoup(response.text, 'html.parser')\n",
        "    return doc\n",
        "\n",
        "\n",
        "def get_news_tags(doc):\n",
        "    \"\"\"Get the list of tags containing news information\"\"\"\n",
        "    news_class = \"Ov(h) Pend(44px) Pstart(25px)\" ## class name of div tag \n",
        "    news_list  = doc.find_all('div', {'class': news_class})\n",
        "    return news_list\n",
        "\n",
        "\n",
        "def parse_news(news_tag):\n",
        "    \"\"\"Get the news data point and return dictionary\"\"\"\n",
        "    news_source = news_tag.find('div').text #source\n",
        "    news_headline = news_tag.find('a').text #heading\n",
        "    news_url = news_tag.find('a')['href'] #link\n",
        "    news_content = news_tag.find('p').text #content\n",
        "    news_image = news_tag.findParent().find('img')['src'] #thumb image\n",
        "    return { 'source' : news_source,\n",
        "            'headline' : news_headline,\n",
        "            'url' : BASE_URL + news_url,\n",
        "            'content' : news_content,\n",
        "            'image' : news_image\n",
        "           }\n",
        "\n",
        "def save_data_to_mongo(dataframe):\n",
        "    \"\"\"Takes a dataframe, converts it to dictionary and saves to mongo db\"\"\"\n",
        "    #     data = dataframe.reset_index(drop=True)\n",
        "    #     data_dictionary = data.to_dict(data)\n",
        "    db.stocks.insert_many(dataframe.to_dict(orient=\"records\"))"
      ]
    },
    {
      "cell_type": "code",
      "execution_count": 10,
      "id": "78fa295f",
      "metadata": {
        "colab": {
          "base_uri": "https://localhost:8080/",
          "height": 399
        },
        "id": "78fa295f",
        "outputId": "0031c2ea-6ea5-4c46-8435-010b5ed692f4"
      },
      "outputs": [
        {
          "output_type": "stream",
          "name": "stdout",
          "text": [
            "Requesting html page\n",
            "Extracting news tags\n",
            "Parsing news tags\n",
            "Save the data to a CSV\n"
          ]
        },
        {
          "output_type": "display_data",
          "data": {
            "text/plain": [
              "          source                                           headline  \\\n",
              "0      Bloomberg  Ghana Catches Investors by Surprise as It Susp...   \n",
              "1  Yahoo Finance  Yuga Labs names Activision Blizzard exec Danie...   \n",
              "2        Reuters  Special Report-Binance's books are a black box...   \n",
              "3        Reuters  Morgan Stanley appoints two co-heads of Italia...   \n",
              "\n",
              "                                                 url  \\\n",
              "0  https://finance.yahoo.com/news/ghana-catches-i...   \n",
              "1  https://finance.yahoo.com/news/yuga-labs-names...   \n",
              "2  https://finance.yahoo.com/news/special-report-...   \n",
              "3  https://finance.yahoo.com/news/morgan-stanley-...   \n",
              "\n",
              "                                             content  \\\n",
              "0  (Bloomberg) -- Ghana on Monday suspended inter...   \n",
              "1  Activision Blizzard exec Daniel Alegre is join...   \n",
              "2  The world's biggest crypto exchange, Binance, ...   \n",
              "3  Morgan Stanley has named Emilio Greco and Nico...   \n",
              "\n",
              "                                               image  \n",
              "0  https://s.yimg.com/uu/api/res/1.2/jvzUnPAZnSsg...  \n",
              "1  https://s.yimg.com/uu/api/res/1.2/iNwOmAoFGM7f...  \n",
              "2  https://s.yimg.com/uu/api/res/1.2/aCIW0vhV_waD...  \n",
              "3  https://s.yimg.com/uu/api/res/1.2/95CAMwHV6Dzc...  "
            ],
            "text/html": [
              "\n",
              "  <div id=\"df-1b635f05-0076-4823-9e54-5131df7f6f22\">\n",
              "    <div class=\"colab-df-container\">\n",
              "      <div>\n",
              "<style scoped>\n",
              "    .dataframe tbody tr th:only-of-type {\n",
              "        vertical-align: middle;\n",
              "    }\n",
              "\n",
              "    .dataframe tbody tr th {\n",
              "        vertical-align: top;\n",
              "    }\n",
              "\n",
              "    .dataframe thead th {\n",
              "        text-align: right;\n",
              "    }\n",
              "</style>\n",
              "<table border=\"1\" class=\"dataframe\">\n",
              "  <thead>\n",
              "    <tr style=\"text-align: right;\">\n",
              "      <th></th>\n",
              "      <th>source</th>\n",
              "      <th>headline</th>\n",
              "      <th>url</th>\n",
              "      <th>content</th>\n",
              "      <th>image</th>\n",
              "    </tr>\n",
              "  </thead>\n",
              "  <tbody>\n",
              "    <tr>\n",
              "      <th>0</th>\n",
              "      <td>Bloomberg</td>\n",
              "      <td>Ghana Catches Investors by Surprise as It Susp...</td>\n",
              "      <td>https://finance.yahoo.com/news/ghana-catches-i...</td>\n",
              "      <td>(Bloomberg) -- Ghana on Monday suspended inter...</td>\n",
              "      <td>https://s.yimg.com/uu/api/res/1.2/jvzUnPAZnSsg...</td>\n",
              "    </tr>\n",
              "    <tr>\n",
              "      <th>1</th>\n",
              "      <td>Yahoo Finance</td>\n",
              "      <td>Yuga Labs names Activision Blizzard exec Danie...</td>\n",
              "      <td>https://finance.yahoo.com/news/yuga-labs-names...</td>\n",
              "      <td>Activision Blizzard exec Daniel Alegre is join...</td>\n",
              "      <td>https://s.yimg.com/uu/api/res/1.2/iNwOmAoFGM7f...</td>\n",
              "    </tr>\n",
              "    <tr>\n",
              "      <th>2</th>\n",
              "      <td>Reuters</td>\n",
              "      <td>Special Report-Binance's books are a black box...</td>\n",
              "      <td>https://finance.yahoo.com/news/special-report-...</td>\n",
              "      <td>The world's biggest crypto exchange, Binance, ...</td>\n",
              "      <td>https://s.yimg.com/uu/api/res/1.2/aCIW0vhV_waD...</td>\n",
              "    </tr>\n",
              "    <tr>\n",
              "      <th>3</th>\n",
              "      <td>Reuters</td>\n",
              "      <td>Morgan Stanley appoints two co-heads of Italia...</td>\n",
              "      <td>https://finance.yahoo.com/news/morgan-stanley-...</td>\n",
              "      <td>Morgan Stanley has named Emilio Greco and Nico...</td>\n",
              "      <td>https://s.yimg.com/uu/api/res/1.2/95CAMwHV6Dzc...</td>\n",
              "    </tr>\n",
              "  </tbody>\n",
              "</table>\n",
              "</div>\n",
              "      <button class=\"colab-df-convert\" onclick=\"convertToInteractive('df-1b635f05-0076-4823-9e54-5131df7f6f22')\"\n",
              "              title=\"Convert this dataframe to an interactive table.\"\n",
              "              style=\"display:none;\">\n",
              "        \n",
              "  <svg xmlns=\"http://www.w3.org/2000/svg\" height=\"24px\"viewBox=\"0 0 24 24\"\n",
              "       width=\"24px\">\n",
              "    <path d=\"M0 0h24v24H0V0z\" fill=\"none\"/>\n",
              "    <path d=\"M18.56 5.44l.94 2.06.94-2.06 2.06-.94-2.06-.94-.94-2.06-.94 2.06-2.06.94zm-11 1L8.5 8.5l.94-2.06 2.06-.94-2.06-.94L8.5 2.5l-.94 2.06-2.06.94zm10 10l.94 2.06.94-2.06 2.06-.94-2.06-.94-.94-2.06-.94 2.06-2.06.94z\"/><path d=\"M17.41 7.96l-1.37-1.37c-.4-.4-.92-.59-1.43-.59-.52 0-1.04.2-1.43.59L10.3 9.45l-7.72 7.72c-.78.78-.78 2.05 0 2.83L4 21.41c.39.39.9.59 1.41.59.51 0 1.02-.2 1.41-.59l7.78-7.78 2.81-2.81c.8-.78.8-2.07 0-2.86zM5.41 20L4 18.59l7.72-7.72 1.47 1.35L5.41 20z\"/>\n",
              "  </svg>\n",
              "      </button>\n",
              "      \n",
              "  <style>\n",
              "    .colab-df-container {\n",
              "      display:flex;\n",
              "      flex-wrap:wrap;\n",
              "      gap: 12px;\n",
              "    }\n",
              "\n",
              "    .colab-df-convert {\n",
              "      background-color: #E8F0FE;\n",
              "      border: none;\n",
              "      border-radius: 50%;\n",
              "      cursor: pointer;\n",
              "      display: none;\n",
              "      fill: #1967D2;\n",
              "      height: 32px;\n",
              "      padding: 0 0 0 0;\n",
              "      width: 32px;\n",
              "    }\n",
              "\n",
              "    .colab-df-convert:hover {\n",
              "      background-color: #E2EBFA;\n",
              "      box-shadow: 0px 1px 2px rgba(60, 64, 67, 0.3), 0px 1px 3px 1px rgba(60, 64, 67, 0.15);\n",
              "      fill: #174EA6;\n",
              "    }\n",
              "\n",
              "    [theme=dark] .colab-df-convert {\n",
              "      background-color: #3B4455;\n",
              "      fill: #D2E3FC;\n",
              "    }\n",
              "\n",
              "    [theme=dark] .colab-df-convert:hover {\n",
              "      background-color: #434B5C;\n",
              "      box-shadow: 0px 1px 3px 1px rgba(0, 0, 0, 0.15);\n",
              "      filter: drop-shadow(0px 1px 2px rgba(0, 0, 0, 0.3));\n",
              "      fill: #FFFFFF;\n",
              "    }\n",
              "  </style>\n",
              "\n",
              "      <script>\n",
              "        const buttonEl =\n",
              "          document.querySelector('#df-1b635f05-0076-4823-9e54-5131df7f6f22 button.colab-df-convert');\n",
              "        buttonEl.style.display =\n",
              "          google.colab.kernel.accessAllowed ? 'block' : 'none';\n",
              "\n",
              "        async function convertToInteractive(key) {\n",
              "          const element = document.querySelector('#df-1b635f05-0076-4823-9e54-5131df7f6f22');\n",
              "          const dataTable =\n",
              "            await google.colab.kernel.invokeFunction('convertToInteractive',\n",
              "                                                     [key], {});\n",
              "          if (!dataTable) return;\n",
              "\n",
              "          const docLinkHtml = 'Like what you see? Visit the ' +\n",
              "            '<a target=\"_blank\" href=https://colab.research.google.com/notebooks/data_table.ipynb>data table notebook</a>'\n",
              "            + ' to learn more about interactive tables.';\n",
              "          element.innerHTML = '';\n",
              "          dataTable['output_type'] = 'display_data';\n",
              "          await google.colab.output.renderOutput(dataTable, element);\n",
              "          const docLink = document.createElement('div');\n",
              "          docLink.innerHTML = docLinkHtml;\n",
              "          element.appendChild(docLink);\n",
              "        }\n",
              "      </script>\n",
              "    </div>\n",
              "  </div>\n",
              "  "
            ]
          },
          "metadata": {}
        },
        {
          "output_type": "stream",
          "name": "stdout",
          "text": [
            "Successful pipeline execution\n",
            "Processing Done\n"
          ]
        }
      ],
      "source": [
        "\n",
        "\n",
        "def scrape_yahoo_news(url, path=None):\n",
        "    \"\"\"Get the yahoo finance market news and write them to CSV file \"\"\"\n",
        "    if path is None:\n",
        "        path = 'stock-market-news.csv'\n",
        "    print('Requesting html page')\n",
        "    doc = get_page(url)\n",
        "    print('Extracting news tags')\n",
        "    news_list = get_news_tags(doc)\n",
        "    print('Parsing news tags')\n",
        "    news_data = [parse_news(news_tag) for news_tag in news_list]\n",
        "    print('Save the data to a CSV')\n",
        "    news_df = pd.DataFrame(news_data)\n",
        "    news_df.to_csv(path, index=None)\n",
        "    display(news_df.head())\n",
        "    save_data_to_mongo(news_df)\n",
        "    print(\"Successful pipeline execution\")\n",
        "\n",
        "\n",
        "if __name__ == \"__main__\" :\n",
        "    \n",
        "    YAHOO_NEWS_URL = BASE_URL+'/news/'\n",
        "    news_df = scrape_yahoo_news(YAHOO_NEWS_URL)\n",
        "\n",
        "print(\"Processing Done\")"
      ]
    },
    {
      "cell_type": "code",
      "execution_count": 11,
      "id": "ce3185ed",
      "metadata": {
        "id": "ce3185ed",
        "colab": {
          "base_uri": "https://localhost:8080/"
        },
        "outputId": "3c9cb3d6-e0a7-448d-ab1f-0a75c068429c"
      },
      "outputs": [
        {
          "output_type": "execute_result",
          "data": {
            "text/plain": [
              "['stocks']"
            ]
          },
          "metadata": {},
          "execution_count": 11
        }
      ],
      "source": [
        "# confirm data storage\n",
        "db.stocks.count\n",
        "db.list_collection_names()"
      ]
    },
    {
      "cell_type": "code",
      "source": [
        "for item in db.stocks.find():\n",
        "  print(item)"
      ],
      "metadata": {
        "colab": {
          "base_uri": "https://localhost:8080/"
        },
        "id": "p4TewE-HJZVG",
        "outputId": "b78080c7-8e34-4c53-df6d-ac1e0a290e82"
      },
      "id": "p4TewE-HJZVG",
      "execution_count": 12,
      "outputs": [
        {
          "output_type": "stream",
          "name": "stdout",
          "text": [
            "{'_id': ObjectId('63a06521d33f9c2e9405b1ca'), 'source': 'Bloomberg', 'headline': 'Ghana Catches Investors by Surprise as It Suspends Debt Payments', 'url': 'https://finance.yahoo.com/news/ghana-catches-investors-surprise-suspends-130926858.html', 'content': \"(Bloomberg) -- Ghana on Monday suspended interest payments on its external debt, catching bondholders by surprise ahead of restructuring talks aimed at unlocking an International Monetary Fund bailout.Most Read from BloombergMusk Polls Twitter to Quit as Chief, Voters Leaning Toward YesTruth Is Reasserting Itself Over Trump’s LiesTrump Gets a 45-Day Extension to Provide Details on His Wealth to VotersHarry and Meghan Aren't Doing Themselves Any FavorsMessi May Not Be Soccer’s GOAT for LongThe We\", 'image': 'https://s.yimg.com/uu/api/res/1.2/jvzUnPAZnSsgH82UGqh1_g--~B/Zmk9c3RyaW07aD0xMjM7cT04MDt3PTIyMDthcHBpZD15dGFjaHlvbg--/https://media.zenfs.com/en/bloomberg_markets_842/dd19686f0a4ace9c64e4b6661b43a63e.cf.jpg'}\n",
            "{'_id': ObjectId('63a06521d33f9c2e9405b1cb'), 'source': 'Yahoo Finance', 'headline': 'Yuga Labs names Activision Blizzard exec Daniel Alegre as new CEO', 'url': 'https://finance.yahoo.com/news/yuga-labs-names-activision-blizzard-exec-daniel-alegre-as-new-ceo-130639297.html', 'content': 'Activision Blizzard exec Daniel Alegre is joining Yuga Labs as its new CEO.', 'image': 'https://s.yimg.com/uu/api/res/1.2/iNwOmAoFGM7fygK9npMppw--~B/Zmk9c3RyaW07aD0xMjM7cT04MDt3PTIyMDthcHBpZD15dGFjaHlvbg--/https://s.yimg.com/os/creatr-uploaded-images/2022-03/fd7ac730-b05a-11ec-afbb-066ab79cd951.cf.jpg'}\n",
            "{'_id': ObjectId('63a06521d33f9c2e9405b1cc'), 'source': 'Reuters', 'headline': \"Special Report-Binance's books are a black box, filings show, as crypto giant tries to rally confidence\", 'url': 'https://finance.yahoo.com/news/special-report-binances-books-black-124508338.html', 'content': 'The world\\'s biggest crypto exchange, Binance, is battling to shore up confidence after a surge in customer withdrawals and a steep drop in the value of its digital token.  After the collapse of rival exchange FTX last month, Binance\\'s founder Changpeng Zhao promised his company would \"lead by example\" in embracing transparency.  Yet a Reuters analysis of Binance\\'s corporate filings shows that the core of the business – the giant Binance.com exchange that has processed trades worth over $22 trillion this year – remains mostly hidden from public view.', 'image': 'https://s.yimg.com/uu/api/res/1.2/aCIW0vhV_waDVEbtwNIo5A--~B/Zmk9c3RyaW07aD0xMjM7cT04MDt3PTIyMDthcHBpZD15dGFjaHlvbg--/https://media.zenfs.com/en/reuters-finance.com/cffe77a119e7be202e37872159c61722.cf.jpg'}\n",
            "{'_id': ObjectId('63a06521d33f9c2e9405b1cd'), 'source': 'Reuters', 'headline': 'Morgan Stanley appoints two co-heads of Italian investment banking operations', 'url': 'https://finance.yahoo.com/news/morgan-stanley-appoints-two-co-122551185.html', 'content': 'Morgan Stanley has named Emilio Greco and Nicola Savoini\\xa0as co-heads of its Italian investment banking operations, it said on Monday.  Greco joined the bank last year, after 20 years spent in the investment banking sector, working with major Italian financial institutions.  Savoini has been with Morgan Stanley for the past 17 years.', 'image': 'https://s.yimg.com/uu/api/res/1.2/95CAMwHV6DzcptPa91ft.g--~B/Zmk9c3RyaW07aD0xMjM7cT04MDt3PTIyMDthcHBpZD15dGFjaHlvbg--/https://media.zenfs.com/en/reuters-finance.com/04c507e0baae178e26f4bd587e0b316e.cf.jpg'}\n"
          ]
        }
      ]
    }
  ],
  "metadata": {
    "colab": {
      "provenance": []
    },
    "kernelspec": {
      "display_name": "Python 3 (ipykernel)",
      "language": "python",
      "name": "python3"
    },
    "language_info": {
      "codemirror_mode": {
        "name": "ipython",
        "version": 3
      },
      "file_extension": ".py",
      "mimetype": "text/x-python",
      "name": "python",
      "nbconvert_exporter": "python",
      "pygments_lexer": "ipython3",
      "version": "3.10.8"
    }
  },
  "nbformat": 4,
  "nbformat_minor": 5
}